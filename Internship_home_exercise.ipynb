{
 "cells": [
  {
   "cell_type": "markdown",
   "metadata": {},
   "source": [
    "# Data Engineer (Internship) Home Exercises"
   ]
  },
  {
   "cell_type": "markdown",
   "metadata": {},
   "source": [
    "## 1. If you have a table like this, how do you write a query to get the most listened song for each country?\n"
   ]
  },
  {
   "cell_type": "markdown",
   "metadata": {},
   "source": [
    "Using SQL query for example:\n",
    "1. We first group by countries.\n",
    "2. We return the most streamed song of each group with the SQL \"MAX\" function "
   ]
  },
  {
   "cell_type": "markdown",
   "metadata": {},
   "source": [
    "```sql\n",
    "SELECT country, song_id, MAX(number_of_times) \n",
    "FROM song_data\n",
    "GROUP BY country;\n",
    "```"
   ]
  },
  {
   "cell_type": "markdown",
   "metadata": {},
   "source": [
    "## 2. How do you implement a function to get the top 100 listened songs in each country?"
   ]
  },
  {
   "cell_type": "code",
   "execution_count": 1,
   "metadata": {},
   "outputs": [],
   "source": [
    "import csv"
   ]
  },
  {
   "cell_type": "code",
   "execution_count": 2,
   "metadata": {},
   "outputs": [],
   "source": [
    "#Dictionnary initialisation for grouping the data by country\n",
    "def initialize_dict(countries):\n",
    "    # initialize dictionary\n",
    "    country_dict = {}\n",
    "    # iterating through the elements of list\n",
    "    for i in countries:\n",
    "        country_dict[i] = []\n",
    "    return country_dict"
   ]
  },
  {
   "cell_type": "raw",
   "metadata": {},
   "source": [
    "dictionnary format\n",
    "country_dict = {\n",
    "    'FR': [[], [], []], \n",
    "    'BR': [[], [], []]\n",
    "}"
   ]
  },
  {
   "cell_type": "code",
   "execution_count": 3,
   "metadata": {},
   "outputs": [],
   "source": [
    "#sublist sorting function\n",
    "def Sort(sub_li):\n",
    "  \n",
    "    # reverse = True (Sorts in Descending order)\n",
    "    # key is set to sort using second element of \n",
    "    # sublist lambda has been used\n",
    "    sub_li.sort(key = lambda x: x[1], reverse=True)\n",
    "    return sub_li"
   ]
  },
  {
   "cell_type": "code",
   "execution_count": 16,
   "metadata": {},
   "outputs": [],
   "source": [
    "def get_countries_top_songs(filename):\n",
    "    file = open(filename, newline = '')\n",
    "    reader = csv.reader(file)\n",
    "    header = next(reader)\n",
    "    data = []\n",
    "    for row in reader:\n",
    "        # row = [song_id, country, Number_of_times]\n",
    "        song_id = row[0]\n",
    "        country = row[1]\n",
    "        number_of_times = int(row[2])\n",
    "        data.append([song_id, country, number_of_times])\n",
    "    \n",
    "    #spot all existing countries\n",
    "    countries = []\n",
    "    for i in range (len(data)):\n",
    "        if data[i][1] not in countries:\n",
    "            countries.append(data[i][1])\n",
    "    #print(countries)\n",
    "\n",
    "    #calling the initialize dictionnary function\n",
    "    country_dict = initialize_dict(countries)\n",
    "\n",
    "    \n",
    "    #populating our dictionnary according the country\n",
    "    for i in range(len(data)):\n",
    "        for key in country_dict:\n",
    "            if data[i][1] == key:\n",
    "                country_dict[key].append(data[i])\n",
    "    \n",
    "    #data persistance\n",
    "    result = \"top_song_per_country.csv\"\n",
    "    file = open(result, 'w')\n",
    "    writer = csv.writer(file)\n",
    "    writer.writerow([\"Country\", \"Top songs\"])\n",
    "    \n",
    "    #print(country_dict)\n",
    "    for country, songs in country_dict.items():\n",
    "        most_streamed = 0\n",
    "        song_count = []\n",
    "        for song in range (len(songs)):\n",
    "            song_count.append((songs[song][0], songs[song][2]))\n",
    "        Sort(song_count) #sort the output descending by number_of_times\n",
    "        #Extracting the first 100 songs \n",
    "        most_streamed = song_count[:100]\n",
    "        #print(\"Top of \", country, \"=\", most_streamed, \"\\n\")\n",
    "        writer.writerow([country, most_streamed])\n",
    "        "
   ]
  },
  {
   "cell_type": "code",
   "execution_count": 17,
   "metadata": {},
   "outputs": [
    {
     "ename": "PermissionError",
     "evalue": "[Errno 13] Permission denied: 'top_song_per_country.csv'",
     "output_type": "error",
     "traceback": [
      "\u001b[1;31m---------------------------------------------------------------------------\u001b[0m",
      "\u001b[1;31mPermissionError\u001b[0m                           Traceback (most recent call last)",
      "\u001b[1;32m<ipython-input-17-a6ffc470af55>\u001b[0m in \u001b[0;36m<module>\u001b[1;34m\u001b[0m\n\u001b[0;32m      1\u001b[0m \u001b[1;31m#function calling\u001b[0m\u001b[1;33m\u001b[0m\u001b[1;33m\u001b[0m\u001b[1;33m\u001b[0m\u001b[0m\n\u001b[1;32m----> 2\u001b[1;33m \u001b[0mget_countries_top_songs\u001b[0m\u001b[1;33m(\u001b[0m\u001b[1;34m\"song_data.csv\"\u001b[0m\u001b[1;33m)\u001b[0m\u001b[1;33m\u001b[0m\u001b[1;33m\u001b[0m\u001b[0m\n\u001b[0m",
      "\u001b[1;32m<ipython-input-16-561894bc0e75>\u001b[0m in \u001b[0;36mget_countries_top_songs\u001b[1;34m(filename)\u001b[0m\n\u001b[0;32m     30\u001b[0m     \u001b[1;31m#data persistance\u001b[0m\u001b[1;33m\u001b[0m\u001b[1;33m\u001b[0m\u001b[1;33m\u001b[0m\u001b[0m\n\u001b[0;32m     31\u001b[0m     \u001b[0mresult\u001b[0m \u001b[1;33m=\u001b[0m \u001b[1;34m\"top_song_per_country.csv\"\u001b[0m\u001b[1;33m\u001b[0m\u001b[1;33m\u001b[0m\u001b[0m\n\u001b[1;32m---> 32\u001b[1;33m     \u001b[0mfile\u001b[0m \u001b[1;33m=\u001b[0m \u001b[0mopen\u001b[0m\u001b[1;33m(\u001b[0m\u001b[0mresult\u001b[0m\u001b[1;33m,\u001b[0m \u001b[1;34m'w'\u001b[0m\u001b[1;33m)\u001b[0m\u001b[1;33m\u001b[0m\u001b[1;33m\u001b[0m\u001b[0m\n\u001b[0m\u001b[0;32m     33\u001b[0m     \u001b[0mwriter\u001b[0m \u001b[1;33m=\u001b[0m \u001b[0mcsv\u001b[0m\u001b[1;33m.\u001b[0m\u001b[0mwriter\u001b[0m\u001b[1;33m(\u001b[0m\u001b[0mfile\u001b[0m\u001b[1;33m)\u001b[0m\u001b[1;33m\u001b[0m\u001b[1;33m\u001b[0m\u001b[0m\n\u001b[0;32m     34\u001b[0m     \u001b[0mwriter\u001b[0m\u001b[1;33m.\u001b[0m\u001b[0mwriterow\u001b[0m\u001b[1;33m(\u001b[0m\u001b[1;33m[\u001b[0m\u001b[1;34m\"Country\"\u001b[0m\u001b[1;33m,\u001b[0m \u001b[1;34m\"Top songs\"\u001b[0m\u001b[1;33m]\u001b[0m\u001b[1;33m)\u001b[0m\u001b[1;33m\u001b[0m\u001b[1;33m\u001b[0m\u001b[0m\n",
      "\u001b[1;31mPermissionError\u001b[0m: [Errno 13] Permission denied: 'top_song_per_country.csv'"
     ]
    }
   ],
   "source": [
    "#function calling\n",
    "get_countries_top_songs(\"song_data.csv\")"
   ]
  },
  {
   "cell_type": "code",
   "execution_count": null,
   "metadata": {},
   "outputs": [],
   "source": []
  }
 ],
 "metadata": {
  "kernelspec": {
   "display_name": "Python 3",
   "language": "python",
   "name": "python3"
  },
  "language_info": {
   "codemirror_mode": {
    "name": "ipython",
    "version": 3
   },
   "file_extension": ".py",
   "mimetype": "text/x-python",
   "name": "python",
   "nbconvert_exporter": "python",
   "pygments_lexer": "ipython3",
   "version": "3.8.3"
  }
 },
 "nbformat": 4,
 "nbformat_minor": 4
}
