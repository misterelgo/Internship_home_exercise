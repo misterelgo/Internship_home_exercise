{
 "cells": [
  {
   "cell_type": "markdown",
   "metadata": {},
   "source": [
    "# Data Engineer (Internship) Home Exercises"
   ]
  },
  {
   "cell_type": "markdown",
   "metadata": {},
   "source": [
    "## 1. If you have a table like this, how do you write a query to get the most listened song for each country?\n"
   ]
  },
  {
   "cell_type": "raw",
   "metadata": {},
   "source": [
    "In an SQL query:\n",
    "We first group by countries.\n",
    "We return the most streamed song of each group with the SQL \"MAX\" function "
   ]
  },
  {
   "cell_type": "raw",
   "metadata": {},
   "source": [
    "SELECT country, song_id, MAX(number_of_times) \n",
    "FROM song_data\n",
    "GROUP BY country;"
   ]
  },
  {
   "cell_type": "markdown",
   "metadata": {},
   "source": [
    "## 2. How do you implement a function to get the top 100 listened songs in each country?"
   ]
  },
  {
   "cell_type": "code",
   "execution_count": 181,
   "metadata": {},
   "outputs": [],
   "source": [
    "import csv"
   ]
  },
  {
   "cell_type": "code",
   "execution_count": 182,
   "metadata": {},
   "outputs": [],
   "source": [
    "#Dictionnary initialisation for grouping the data by country\n",
    "def initialize_dict(countries):\n",
    "    # initialize dictionary\n",
    "    country_dict = {}\n",
    "    # iterating through the elements of list\n",
    "    for i in countries:\n",
    "        country_dict[i] = []\n",
    "    return country_dict"
   ]
  },
  {
   "cell_type": "raw",
   "metadata": {},
   "source": [
    "dictionnary format\n",
    "country_dict = {\n",
    "    'FR': [[], [], []], \n",
    "    'BR': [[], [], []]\n",
    "}"
   ]
  },
  {
   "cell_type": "code",
   "execution_count": 183,
   "metadata": {},
   "outputs": [],
   "source": [
    "#sublist sorting function\n",
    "def Sort(sub_li):\n",
    "  \n",
    "    # reverse = True (Sorts in Descending order)\n",
    "    # key is set to sort using second element of \n",
    "    # sublist lambda has been used\n",
    "    sub_li.sort(key = lambda x: x[1], reverse=True)\n",
    "    return sub_li"
   ]
  },
  {
   "cell_type": "code",
   "execution_count": 184,
   "metadata": {},
   "outputs": [],
   "source": [
    "def get_countries_top_songs(filename):\n",
    "    file = open(filename, newline = '')\n",
    "    reader = csv.reader(file)\n",
    "    header = next(reader)\n",
    "    data = []\n",
    "    for row in reader:\n",
    "        # row = [song_id, country, Number_of_times]\n",
    "        song_id = row[0]\n",
    "        country = row[1]\n",
    "        number_of_times = int(row[2])\n",
    "        data.append([song_id, country, number_of_times])\n",
    "    \n",
    "    #spot all existing countries\n",
    "    countries = []\n",
    "    for i in range (len(data)):\n",
    "        if data[i][1] not in countries:\n",
    "            countries.append(data[i][1])\n",
    "    #print(countries)\n",
    "\n",
    "    #calling the initialize dictionnary function\n",
    "    initialize_dict(countries)\n",
    "\n",
    "    \n",
    "    #populating our dictionnary according the country\n",
    "    for i in range(len(data)):\n",
    "        for key in country_dict:\n",
    "            if data[i][1] == key:\n",
    "                country_dict[key].append(data[i])\n",
    "                \n",
    "    #print(country_dict)\n",
    "    for country, songs in country_dict.items():\n",
    "        #print(country, \":\", songs)\n",
    "        most_streamed = 0\n",
    "        song_count = []\n",
    "        for song in range (len(songs)):\n",
    "            song_count.append((songs[song][0], songs[song][2]))\n",
    "        Sort(song_count) #sort the output descending by number_of_times\n",
    "        #Extracting the first 100 songs \n",
    "        most_streamed = song_count[:100]\n",
    "        print(\"Top of \", country, \"=\", most_streamed, \"\\n\")\n",
    "        "
   ]
  },
  {
   "cell_type": "code",
   "execution_count": 185,
   "metadata": {},
   "outputs": [
    {
     "name": "stdout",
     "output_type": "stream",
     "text": [
      "Top of  BR = [('BVgiSQcStJY9qniCAFA1C3OKTg==', 55389), ('BVgiSQcStJY9qniCAFA1C3OKTg==', 55389), ('BVgiSQcStJY9qniCAFA1C3OKTg==', 55389), ('CjusiJanBMNPHEuHJUy0Npra3g==', 47904), ('CjusiJanBMNPHEuHJUy0Npra3g==', 47904), ('CjusiJanBMNPHEuHJUy0Npra3g==', 47904), ('CA9EGcvCfFsRg3DeQtq/c989vA==', 47883), ('CA9EGcvCfFsRg3DeQtq/c989vA==', 47883), ('CA9EGcvCfFsRg3DeQtq/c989vA==', 47883), ('B+v5SSOG1p66hkbbpfzdS+ln+Q==', 33299), ('B+v5SSOG1p66hkbbpfzdS+ln+Q==', 33299), ('B+v5SSOG1p66hkbbpfzdS+ln+Q==', 33299), ('CmumiecfQWF+eWaouYEioSfTaQ==', 28432), ('CmumiecfQWF+eWaouYEioSfTaQ==', 28432), ('CmumiecfQWF+eWaouYEioSfTaQ==', 28432), ('AedS5ksCMnor70eaIFhx7o8aZg==', 26701), ('AedS5ksCMnor70eaIFhx7o8aZg==', 26701), ('AedS5ksCMnor70eaIFhx7o8aZg==', 26701), ('B+38U0V2gd3HxXgPisZx8tRccA==', 17739), ('B+38U0V2gd3HxXgPisZx8tRccA==', 17739), ('B+38U0V2gd3HxXgPisZx8tRccA==', 17739), ('CTnrze2/9Blqt58hhvRyJEJaxQ==', 17164), ('CTnrze2/9Blqt58hhvRyJEJaxQ==', 17164), ('CTnrze2/9Blqt58hhvRyJEJaxQ==', 17164), ('Cp1XQkgl5F1UUUr0YoCCPFKivg==', 16147), ('Cp1XQkgl5F1UUUr0YoCCPFKivg==', 16147), ('Cp1XQkgl5F1UUUr0YoCCPFKivg==', 16147), ('B7CTiqHImBNz9w4WGo5YK5P6xw==', 15950), ('B7CTiqHImBNz9w4WGo5YK5P6xw==', 15950), ('B7CTiqHImBNz9w4WGo5YK5P6xw==', 15950), ('CE7CZjVN4HwGh2eJzQn6MlBxEw==', 14840), ('CE7CZjVN4HwGh2eJzQn6MlBxEw==', 14840), ('CE7CZjVN4HwGh2eJzQn6MlBxEw==', 14840), ('BReHySlJVarI6jDQJAnAKO8USw==', 14801), ('BReHySlJVarI6jDQJAnAKO8USw==', 14801), ('BReHySlJVarI6jDQJAnAKO8USw==', 14801), ('AG2vwQOt/tX7rrxONDmppmVNvg==', 14608), ('AG2vwQOt/tX7rrxONDmppmVNvg==', 14608), ('AG2vwQOt/tX7rrxONDmppmVNvg==', 14608), ('CjbPO8GSKN1loN7D5cp6b955DA==', 14287), ('CjbPO8GSKN1loN7D5cp6b955DA==', 14287), ('CjbPO8GSKN1loN7D5cp6b955DA==', 14287), ('Aclm7Fsh+gCCxSdOVWIB/kf/yA==', 14107), ('Aclm7Fsh+gCCxSdOVWIB/kf/yA==', 14107), ('Aclm7Fsh+gCCxSdOVWIB/kf/yA==', 14107), ('BuN1OQ9UPNkP2BB9I/CkCvowrQ==', 13355), ('BuN1OQ9UPNkP2BB9I/CkCvowrQ==', 13355), ('BuN1OQ9UPNkP2BB9I/CkCvowrQ==', 13355), ('CqQIZRB9m+giw76Cw5JsTkgkeg==', 12551), ('CqQIZRB9m+giw76Cw5JsTkgkeg==', 12551), ('CqQIZRB9m+giw76Cw5JsTkgkeg==', 12551), ('Bi89cIxKTjSvje74G28WDHLJ6g==', 11801), ('Bi89cIxKTjSvje74G28WDHLJ6g==', 11801), ('Bi89cIxKTjSvje74G28WDHLJ6g==', 11801), ('BLlcHIO99BsBCpU1bE0QObNxJg==', 11693), ('BLlcHIO99BsBCpU1bE0QObNxJg==', 11693), ('BLlcHIO99BsBCpU1bE0QObNxJg==', 11693), ('BWA2etFy2C9IyhbJmETK7+TRtA==', 10076), ('BWA2etFy2C9IyhbJmETK7+TRtA==', 10076), ('BWA2etFy2C9IyhbJmETK7+TRtA==', 10076), ('CJTrMc9SB++V/Zo1NCIXVQeLUw==', 9847), ('CJTrMc9SB++V/Zo1NCIXVQeLUw==', 9847), ('CJTrMc9SB++V/Zo1NCIXVQeLUw==', 9847), ('B+FAmlZUTSEtqCjRsMETk74qTw==', 9773), ('B+FAmlZUTSEtqCjRsMETk74qTw==', 9773), ('B+FAmlZUTSEtqCjRsMETk74qTw==', 9773), ('CXetF6R6qYnlRImrcQ8plzVdTA==', 9770), ('CXetF6R6qYnlRImrcQ8plzVdTA==', 9770), ('CXetF6R6qYnlRImrcQ8plzVdTA==', 9770), ('AKlYlWcABFmDuOQD30qEP/xMUw==', 9744), ('AKlYlWcABFmDuOQD30qEP/xMUw==', 9744), ('AKlYlWcABFmDuOQD30qEP/xMUw==', 9744), ('Ak8LBru+4fMqDeubUzbR4/FAsA==', 9537), ('Ak8LBru+4fMqDeubUzbR4/FAsA==', 9537), ('Ak8LBru+4fMqDeubUzbR4/FAsA==', 9537), ('CO3LZPViSSFQVQfDef9OIz/7JA==', 8754), ('CO3LZPViSSFQVQfDef9OIz/7JA==', 8754), ('CO3LZPViSSFQVQfDef9OIz/7JA==', 8754), ('BwrphbXTHCUAPzZFJpssW6tIzw==', 8729), ('BwrphbXTHCUAPzZFJpssW6tIzw==', 8729), ('BwrphbXTHCUAPzZFJpssW6tIzw==', 8729), ('CqpKTqbUSnYQBHtTUJsNnedEWw==', 8680), ('CqpKTqbUSnYQBHtTUJsNnedEWw==', 8680), ('CqpKTqbUSnYQBHtTUJsNnedEWw==', 8680), ('A6xjtiTbllfC8V1iW8nXvy381w==', 8149), ('A6xjtiTbllfC8V1iW8nXvy381w==', 8149), ('A6xjtiTbllfC8V1iW8nXvy381w==', 8149), ('Cmp+6lo7LyJMS07NhkLqLBYa4w==', 8016), ('Cmp+6lo7LyJMS07NhkLqLBYa4w==', 8016), ('Cmp+6lo7LyJMS07NhkLqLBYa4w==', 8016), ('BmLOgPcSaN8exXiZIApDYzYBJg==', 7919), ('BmLOgPcSaN8exXiZIApDYzYBJg==', 7919), ('BmLOgPcSaN8exXiZIApDYzYBJg==', 7919), ('BjiKq+qLWDoFwVJvCiHDpH+bOg==', 7825), ('BjiKq+qLWDoFwVJvCiHDpH+bOg==', 7825), ('BjiKq+qLWDoFwVJvCiHDpH+bOg==', 7825), ('Cac8dpMBlO9t667Uvcd6LJxV1w==', 7671), ('Cac8dpMBlO9t667Uvcd6LJxV1w==', 7671), ('Cac8dpMBlO9t667Uvcd6LJxV1w==', 7671), ('A+pzzwYhunbhsJvYtzCZg0bd5w==', 7641)] \n",
      "\n",
      "Top of  MX = [('AWf6YD/4pWZ2FLafcDQyivi+sQ==', 6183), ('AWf6YD/4pWZ2FLafcDQyivi+sQ==', 6183), ('AWf6YD/4pWZ2FLafcDQyivi+sQ==', 6183), ('ASaww7jZUAMz5jn1erJVF5pjzQ==', 4171), ('ASaww7jZUAMz5jn1erJVF5pjzQ==', 4171), ('ASaww7jZUAMz5jn1erJVF5pjzQ==', 4171), ('Cn/Zr/QPqPcXPWV//Qe2EGye1g==', 2753), ('Cn/Zr/QPqPcXPWV//Qe2EGye1g==', 2753), ('Cn/Zr/QPqPcXPWV//Qe2EGye1g==', 2753), ('B+38U0V2gd3HxXgPisZx8tRccA==', 2599), ('B+38U0V2gd3HxXgPisZx8tRccA==', 2599), ('B+38U0V2gd3HxXgPisZx8tRccA==', 2599), ('ClRoS30Upin2E68Z3i8T3SFv5g==', 2538), ('ClRoS30Upin2E68Z3i8T3SFv5g==', 2538), ('ClRoS30Upin2E68Z3i8T3SFv5g==', 2538), ('Cc5t6Gue+bCd+chi7GIWvYUQNg==', 2364), ('Cc5t6Gue+bCd+chi7GIWvYUQNg==', 2364), ('Cc5t6Gue+bCd+chi7GIWvYUQNg==', 2364), ('AyVZbv4I3NyllCi9ixHYNc0GWw==', 2277), ('AyVZbv4I3NyllCi9ixHYNc0GWw==', 2277), ('AyVZbv4I3NyllCi9ixHYNc0GWw==', 2277), ('BuN1OQ9UPNkP2BB9I/CkCvowrQ==', 2254), ('BuN1OQ9UPNkP2BB9I/CkCvowrQ==', 2254), ('BuN1OQ9UPNkP2BB9I/CkCvowrQ==', 2254), ('AnX6KA22LhSSRYMxuitqhs6rEg==', 2226), ('AnX6KA22LhSSRYMxuitqhs6rEg==', 2226), ('AnX6KA22LhSSRYMxuitqhs6rEg==', 2226), ('Bx2c8lgKOFeHCAuHDCJrAwiIPA==', 1958), ('Bx2c8lgKOFeHCAuHDCJrAwiIPA==', 1958), ('Bx2c8lgKOFeHCAuHDCJrAwiIPA==', 1958), ('CVAMETAvPK3c3GrNIZZgJux5Ug==', 1935), ('CVAMETAvPK3c3GrNIZZgJux5Ug==', 1935), ('CVAMETAvPK3c3GrNIZZgJux5Ug==', 1935), ('ASzkTMNaqBgPY6xq7T9j3uUg3Q==', 1797), ('ASzkTMNaqBgPY6xq7T9j3uUg3Q==', 1797), ('ASzkTMNaqBgPY6xq7T9j3uUg3Q==', 1797), ('CmBHFxVH6ugNJtqDl8ojsGV3lg==', 1780), ('CmBHFxVH6ugNJtqDl8ojsGV3lg==', 1780), ('CmBHFxVH6ugNJtqDl8ojsGV3lg==', 1780), ('AZMAqOPjdniYksZigPePaVRz/g==', 1763), ('AZMAqOPjdniYksZigPePaVRz/g==', 1763), ('AZMAqOPjdniYksZigPePaVRz/g==', 1763), ('AFNqtWTdux1p5C+Bnv+yW8yBFQ==', 1762), ('AFNqtWTdux1p5C+Bnv+yW8yBFQ==', 1762), ('AFNqtWTdux1p5C+Bnv+yW8yBFQ==', 1762), ('CoEFfwL6GayxjSvj1dw4FuL9jQ==', 1723), ('CoEFfwL6GayxjSvj1dw4FuL9jQ==', 1723), ('CoEFfwL6GayxjSvj1dw4FuL9jQ==', 1723), ('ALSgCdbdcSNPQrTJI3YC4sK6GA==', 1537), ('ALSgCdbdcSNPQrTJI3YC4sK6GA==', 1537), ('ALSgCdbdcSNPQrTJI3YC4sK6GA==', 1537), ('BaSjYqWM1KC9amnW7CHejj4aww==', 1487), ('BaSjYqWM1KC9amnW7CHejj4aww==', 1487), ('BaSjYqWM1KC9amnW7CHejj4aww==', 1487), ('CS9q0bIPoJOPltNqg6UfYKG/ng==', 1406), ('CS9q0bIPoJOPltNqg6UfYKG/ng==', 1406), ('CS9q0bIPoJOPltNqg6UfYKG/ng==', 1406), ('BQfBfH7d5/HUktG/BgXxZTSKeA==', 1259), ('BQfBfH7d5/HUktG/BgXxZTSKeA==', 1259), ('BQfBfH7d5/HUktG/BgXxZTSKeA==', 1259), ('BZHLOkIM8xLZrNlVD2NCO0q4Ag==', 1220), ('BZHLOkIM8xLZrNlVD2NCO0q4Ag==', 1220), ('BZHLOkIM8xLZrNlVD2NCO0q4Ag==', 1220), ('AZT6QE1OkLacQXFq6wIoHCdp5A==', 1217), ('AZT6QE1OkLacQXFq6wIoHCdp5A==', 1217), ('AZT6QE1OkLacQXFq6wIoHCdp5A==', 1217), ('BXqHVhYFJhgLK0awJ71e9Ddwaw==', 1207), ('BXqHVhYFJhgLK0awJ71e9Ddwaw==', 1207), ('BXqHVhYFJhgLK0awJ71e9Ddwaw==', 1207), ('AmxCjCvJruHZS9OxPskwQySqaA==', 1127), ('AmxCjCvJruHZS9OxPskwQySqaA==', 1127), ('AmxCjCvJruHZS9OxPskwQySqaA==', 1127), ('AAoKBgt8hThuWNSesr5XQqFQ5g==', 1115), ('AAoKBgt8hThuWNSesr5XQqFQ5g==', 1115), ('AAoKBgt8hThuWNSesr5XQqFQ5g==', 1115), ('BUeR0+IMAR+b2h9YseCQ7mrRnw==', 1091), ('BUeR0+IMAR+b2h9YseCQ7mrRnw==', 1091), ('BUeR0+IMAR+b2h9YseCQ7mrRnw==', 1091), ('BReHySlJVarI6jDQJAnAKO8USw==', 1067), ('BReHySlJVarI6jDQJAnAKO8USw==', 1067), ('BReHySlJVarI6jDQJAnAKO8USw==', 1067), ('AKlYlWcABFmDuOQD30qEP/xMUw==', 1036), ('AKlYlWcABFmDuOQD30qEP/xMUw==', 1036), ('AKlYlWcABFmDuOQD30qEP/xMUw==', 1036), ('Bm7/H2FXAjlN7KRCXqTb/BPFkQ==', 1028), ('Bm7/H2FXAjlN7KRCXqTb/BPFkQ==', 1028), ('Bm7/H2FXAjlN7KRCXqTb/BPFkQ==', 1028), ('Cbvh5HHH4hRivWpKLry8nTCTCw==', 1016), ('Cbvh5HHH4hRivWpKLry8nTCTCw==', 1016), ('Cbvh5HHH4hRivWpKLry8nTCTCw==', 1016)] \n",
      "\n",
      "Top of  FR = [('Bq3FUlexj+Oi6Jdua0rdHgGpuA==', 131449), ('Bq3FUlexj+Oi6Jdua0rdHgGpuA==', 131449), ('Bq3FUlexj+Oi6Jdua0rdHgGpuA==', 131449), ('CXA/+pabOzzmbtCjqaLKwTgF9g==', 104838), ('CXA/+pabOzzmbtCjqaLKwTgF9g==', 104838), ('CXA/+pabOzzmbtCjqaLKwTgF9g==', 104838), ('A+47QLTduLD8hkJBMxrIwCaeSg==', 103144), ('A+47QLTduLD8hkJBMxrIwCaeSg==', 103144), ('A+47QLTduLD8hkJBMxrIwCaeSg==', 103144), ('CIuQae501R7q66jcgeDveLAgrw==', 67808), ('CIuQae501R7q66jcgeDveLAgrw==', 67808), ('CIuQae501R7q66jcgeDveLAgrw==', 67808), ('BVdINUEowUsanLQXK/eHArC8Ag==', 39368), ('BVdINUEowUsanLQXK/eHArC8Ag==', 39368), ('BVdINUEowUsanLQXK/eHArC8Ag==', 39368), ('AluOoPgOTpHu2YwDKOTSOHqqFg==', 31506), ('AluOoPgOTpHu2YwDKOTSOHqqFg==', 31506), ('AluOoPgOTpHu2YwDKOTSOHqqFg==', 31506), ('B+oEP5bXGHlASRF+Gp/l3U9HcA==', 30936), ('B+oEP5bXGHlASRF+Gp/l3U9HcA==', 30936), ('B+oEP5bXGHlASRF+Gp/l3U9HcA==', 30936), ('BggwjJYgWLdxp3cBkNBFdJ+XcQ==', 30791), ('BggwjJYgWLdxp3cBkNBFdJ+XcQ==', 30791), ('BggwjJYgWLdxp3cBkNBFdJ+XcQ==', 30791), ('AFzs6HBcVtVNh0bppP6htQkisA==', 30657), ('AFzs6HBcVtVNh0bppP6htQkisA==', 30657), ('AFzs6HBcVtVNh0bppP6htQkisA==', 30657), ('B+38U0V2gd3HxXgPisZx8tRccA==', 28814), ('B+38U0V2gd3HxXgPisZx8tRccA==', 28814), ('B+38U0V2gd3HxXgPisZx8tRccA==', 28814), ('BMx8MTshpfm43uUfguDs1RAGTA==', 27585), ('BMx8MTshpfm43uUfguDs1RAGTA==', 27585), ('BMx8MTshpfm43uUfguDs1RAGTA==', 27585), ('CZEF+Bahocz1h0F3qWBwU6s4wg==', 27377), ('CZEF+Bahocz1h0F3qWBwU6s4wg==', 27377), ('CZEF+Bahocz1h0F3qWBwU6s4wg==', 27377), ('CAYp2OqkCNIsBczbBdK0H1uRzA==', 25859), ('CAYp2OqkCNIsBczbBdK0H1uRzA==', 25859), ('CAYp2OqkCNIsBczbBdK0H1uRzA==', 25859), ('B4FNy3xNaVSg5Jf8kpObuWhfJg==', 25536), ('B4FNy3xNaVSg5Jf8kpObuWhfJg==', 25536), ('B4FNy3xNaVSg5Jf8kpObuWhfJg==', 25536), ('BWA2etFy2C9IyhbJmETK7+TRtA==', 24718), ('BWA2etFy2C9IyhbJmETK7+TRtA==', 24718), ('BWA2etFy2C9IyhbJmETK7+TRtA==', 24718), ('AfufLXH9rzUkp0zHqLdJpkTrGg==', 20727), ('AfufLXH9rzUkp0zHqLdJpkTrGg==', 20727), ('AfufLXH9rzUkp0zHqLdJpkTrGg==', 20727), ('AM9hbaajJnsk948qcCXV2sAKFg==', 20176), ('AM9hbaajJnsk948qcCXV2sAKFg==', 20176), ('AM9hbaajJnsk948qcCXV2sAKFg==', 20176), ('CAiWFEFktF52ON+wqoUrOkUQVA==', 19184), ('CAiWFEFktF52ON+wqoUrOkUQVA==', 19184), ('CAiWFEFktF52ON+wqoUrOkUQVA==', 19184), ('BKUbG/6eHYI8GBAlcXS0nUKKTA==', 17049), ('BKUbG/6eHYI8GBAlcXS0nUKKTA==', 17049), ('BKUbG/6eHYI8GBAlcXS0nUKKTA==', 17049), ('Bdjrta8bgEGYQl4wDA4ab2mmQA==', 16316), ('Bdjrta8bgEGYQl4wDA4ab2mmQA==', 16316), ('Bdjrta8bgEGYQl4wDA4ab2mmQA==', 16316), ('CNS+oaur3dDTIqYugDzPRqbMQg==', 16184), ('CNS+oaur3dDTIqYugDzPRqbMQg==', 16184), ('CNS+oaur3dDTIqYugDzPRqbMQg==', 16184), ('BuN1OQ9UPNkP2BB9I/CkCvowrQ==', 15269), ('BuN1OQ9UPNkP2BB9I/CkCvowrQ==', 15269), ('BuN1OQ9UPNkP2BB9I/CkCvowrQ==', 15269), ('A3icmD0fQuOl+xLvrOV9niUmwA==', 15263), ('A3icmD0fQuOl+xLvrOV9niUmwA==', 15263), ('A3icmD0fQuOl+xLvrOV9niUmwA==', 15263), ('B4gWYRBgMjPWrexHfqiTdvVI2Q==', 14398), ('B4gWYRBgMjPWrexHfqiTdvVI2Q==', 14398), ('B4gWYRBgMjPWrexHfqiTdvVI2Q==', 14398), ('AKlYlWcABFmDuOQD30qEP/xMUw==', 14159), ('AKlYlWcABFmDuOQD30qEP/xMUw==', 14159), ('AKlYlWcABFmDuOQD30qEP/xMUw==', 14159), ('At9OrATRSU6DJ82FBkbGk2hy3w==', 14098), ('At9OrATRSU6DJ82FBkbGk2hy3w==', 14098), ('At9OrATRSU6DJ82FBkbGk2hy3w==', 14098), ('BjiKq+qLWDoFwVJvCiHDpH+bOg==', 14007), ('BjiKq+qLWDoFwVJvCiHDpH+bOg==', 14007), ('BjiKq+qLWDoFwVJvCiHDpH+bOg==', 14007), ('AqE4c4ESPVbml995GI60KbusKw==', 13930), ('AqE4c4ESPVbml995GI60KbusKw==', 13930), ('AqE4c4ESPVbml995GI60KbusKw==', 13930), ('AYKqNzx2n77MqAUc1F3x/vmKKQ==', 13524), ('AYKqNzx2n77MqAUc1F3x/vmKKQ==', 13524), ('AYKqNzx2n77MqAUc1F3x/vmKKQ==', 13524), ('BK/Ug39V0CPMbyR0vPCMQtNqMg==', 13394), ('BK/Ug39V0CPMbyR0vPCMQtNqMg==', 13394), ('BK/Ug39V0CPMbyR0vPCMQtNqMg==', 13394), ('BbIA9Fw8zC5ozRgPQKq97uEOVA==', 12688), ('BbIA9Fw8zC5ozRgPQKq97uEOVA==', 12688), ('BbIA9Fw8zC5ozRgPQKq97uEOVA==', 12688), ('BRKfefZrppwuU4YKNs9rH65hbQ==', 12413), ('BRKfefZrppwuU4YKNs9rH65hbQ==', 12413), ('BRKfefZrppwuU4YKNs9rH65hbQ==', 12413), ('Bnd+qNe8EoY7nMihV/pPLTUvTg==', 12325), ('Bnd+qNe8EoY7nMihV/pPLTUvTg==', 12325), ('Bnd+qNe8EoY7nMihV/pPLTUvTg==', 12325), ('AhoFkmWFtiTrRENrVXwCq2W30w==', 12098)] \n",
      "\n",
      "Top of  DE = [('Ao8gCE8tR5y40aAwlF1loi9J3A==', 14986), ('Ao8gCE8tR5y40aAwlF1loi9J3A==', 14986), ('Ao8gCE8tR5y40aAwlF1loi9J3A==', 14986), ('CDgqqTu5lRWeritHtezJZ5wSHQ==', 11155), ('CDgqqTu5lRWeritHtezJZ5wSHQ==', 11155), ('CDgqqTu5lRWeritHtezJZ5wSHQ==', 11155), ('BWA2etFy2C9IyhbJmETK7+TRtA==', 9328), ('BWA2etFy2C9IyhbJmETK7+TRtA==', 9328), ('BWA2etFy2C9IyhbJmETK7+TRtA==', 9328), ('Cm5mgNgWqDqW2OlBtTCOa/4Hdw==', 7945), ('Cm5mgNgWqDqW2OlBtTCOa/4Hdw==', 7945), ('Cm5mgNgWqDqW2OlBtTCOa/4Hdw==', 7945), ('BteBPmzSACcHwy4nyT1vmhB6gw==', 7395), ('BteBPmzSACcHwy4nyT1vmhB6gw==', 7395), ('BteBPmzSACcHwy4nyT1vmhB6gw==', 7395), ('Ap8rbfm6mEBKMrzKbvkB45KG4A==', 7305), ('Ap8rbfm6mEBKMrzKbvkB45KG4A==', 7305), ('Ap8rbfm6mEBKMrzKbvkB45KG4A==', 7305), ('BcVQ1VXatSYr2EUYBe9xQR0o1A==', 7197), ('BcVQ1VXatSYr2EUYBe9xQR0o1A==', 7197), ('BcVQ1VXatSYr2EUYBe9xQR0o1A==', 7197), ('B+38U0V2gd3HxXgPisZx8tRccA==', 6720), ('B+38U0V2gd3HxXgPisZx8tRccA==', 6720), ('B+38U0V2gd3HxXgPisZx8tRccA==', 6720), ('CExRegAXE91jFuzc4j5/ubryUw==', 4205), ('CExRegAXE91jFuzc4j5/ubryUw==', 4205), ('CExRegAXE91jFuzc4j5/ubryUw==', 4205), ('BjiKq+qLWDoFwVJvCiHDpH+bOg==', 4129), ('BjiKq+qLWDoFwVJvCiHDpH+bOg==', 4129), ('BjiKq+qLWDoFwVJvCiHDpH+bOg==', 4129), ('AA7Jh3FuJHM6Zy+D/kmg0PhXFA==', 3950), ('AA7Jh3FuJHM6Zy+D/kmg0PhXFA==', 3950), ('AA7Jh3FuJHM6Zy+D/kmg0PhXFA==', 3950), ('BrJ0DDzSNZQCFWi8N5KJ1gE4MA==', 3858), ('BrJ0DDzSNZQCFWi8N5KJ1gE4MA==', 3858), ('BrJ0DDzSNZQCFWi8N5KJ1gE4MA==', 3858), ('BMx8MTshpfm43uUfguDs1RAGTA==', 3551), ('BMx8MTshpfm43uUfguDs1RAGTA==', 3551), ('BMx8MTshpfm43uUfguDs1RAGTA==', 3551), ('CQZ/F36ODK82I+UG0MsgTy8pLg==', 3162), ('CQZ/F36ODK82I+UG0MsgTy8pLg==', 3162), ('CQZ/F36ODK82I+UG0MsgTy8pLg==', 3162), ('BXgY/umqYk+P5YTkFwgh14TeyA==', 3090), ('BXgY/umqYk+P5YTkFwgh14TeyA==', 3090), ('BXgY/umqYk+P5YTkFwgh14TeyA==', 3090), ('BxJ1tj3UVYCqiwDsOGp415HOYA==', 3057), ('BxJ1tj3UVYCqiwDsOGp415HOYA==', 3057), ('BxJ1tj3UVYCqiwDsOGp415HOYA==', 3057), ('B5D0Xqo128Zji+3EzmJpjXBadA==', 2961), ('B5D0Xqo128Zji+3EzmJpjXBadA==', 2961), ('B5D0Xqo128Zji+3EzmJpjXBadA==', 2961), ('ALMZ5IAy/k7MAlBFyycFA5RWOg==', 2896), ('ALMZ5IAy/k7MAlBFyycFA5RWOg==', 2896), ('ALMZ5IAy/k7MAlBFyycFA5RWOg==', 2896), ('CAiWFEFktF52ON+wqoUrOkUQVA==', 2753), ('CAiWFEFktF52ON+wqoUrOkUQVA==', 2753), ('CAiWFEFktF52ON+wqoUrOkUQVA==', 2753), ('BBhH740pNZ2y/chQgvjDlgFQoQ==', 2669), ('BBhH740pNZ2y/chQgvjDlgFQoQ==', 2669), ('BBhH740pNZ2y/chQgvjDlgFQoQ==', 2669), ('BReHySlJVarI6jDQJAnAKO8USw==', 2495), ('BReHySlJVarI6jDQJAnAKO8USw==', 2495), ('BReHySlJVarI6jDQJAnAKO8USw==', 2495), ('AjCm9OoNLEIAW1pftahODe1weA==', 2318), ('AjCm9OoNLEIAW1pftahODe1weA==', 2318), ('AjCm9OoNLEIAW1pftahODe1weA==', 2318), ('ASmpfV917uWqDXtvJUeMfLWqSA==', 2280), ('ASmpfV917uWqDXtvJUeMfLWqSA==', 2280), ('ASmpfV917uWqDXtvJUeMfLWqSA==', 2280), ('CrlgLlmyOV/IW1TplQh2tHof7g==', 2217), ('CrlgLlmyOV/IW1TplQh2tHof7g==', 2217), ('CrlgLlmyOV/IW1TplQh2tHof7g==', 2217), ('AKlYlWcABFmDuOQD30qEP/xMUw==', 2168), ('AKlYlWcABFmDuOQD30qEP/xMUw==', 2168), ('AKlYlWcABFmDuOQD30qEP/xMUw==', 2168), ('CrMclPIcKLkajpxKkBJg/EyU+g==', 2085), ('CrMclPIcKLkajpxKkBJg/EyU+g==', 2085), ('CrMclPIcKLkajpxKkBJg/EyU+g==', 2085), ('APK5wIveXKZp97ht28Q5iLRJMw==', 2083), ('APK5wIveXKZp97ht28Q5iLRJMw==', 2083), ('APK5wIveXKZp97ht28Q5iLRJMw==', 2083), ('A8kD15tT/75eZxZreJirqAD7fA==', 2070), ('A8kD15tT/75eZxZreJirqAD7fA==', 2070), ('A8kD15tT/75eZxZreJirqAD7fA==', 2070), ('CG3ZtEbFreaqzP2j7rHGwC5bJw==', 2061), ('CG3ZtEbFreaqzP2j7rHGwC5bJw==', 2061), ('CG3ZtEbFreaqzP2j7rHGwC5bJw==', 2061), ('B44jgstWJsiYd2aFYva0fbMEbw==', 1899), ('B44jgstWJsiYd2aFYva0fbMEbw==', 1899), ('B44jgstWJsiYd2aFYva0fbMEbw==', 1899), ('CgU8qxXYnyPC+MH6fARn+IN9mg==', 1892), ('CgU8qxXYnyPC+MH6fARn+IN9mg==', 1892), ('CgU8qxXYnyPC+MH6fARn+IN9mg==', 1892), ('CS9q0bIPoJOPltNqg6UfYKG/ng==', 1871), ('CS9q0bIPoJOPltNqg6UfYKG/ng==', 1871), ('CS9q0bIPoJOPltNqg6UfYKG/ng==', 1871), ('BCgYY3pC5HnRMhU0/Bnlnskxyg==', 1853), ('BCgYY3pC5HnRMhU0/Bnlnskxyg==', 1853), ('BCgYY3pC5HnRMhU0/Bnlnskxyg==', 1853), ('ANR/yOuIDlpszF407Io8S+Bkmg==', 1824)] \n",
      "\n",
      "Top of  TR = [('Byg7E2H83T18l/Zv8SXUwh6F9Q==', 3517), ('Byg7E2H83T18l/Zv8SXUwh6F9Q==', 3517), ('Byg7E2H83T18l/Zv8SXUwh6F9Q==', 3517), ('Ba5v/Sesr74aOK4WtCnmDYrlpQ==', 3442), ('Ba5v/Sesr74aOK4WtCnmDYrlpQ==', 3442), ('Ba5v/Sesr74aOK4WtCnmDYrlpQ==', 3442), ('Bkc2muTqNC+YiLxGjROWXrwBkg==', 1674), ('Bkc2muTqNC+YiLxGjROWXrwBkg==', 1674), ('Bkc2muTqNC+YiLxGjROWXrwBkg==', 1674), ('AEAwCnvNkuyD+R3qNzSbNLSHNw==', 1641), ('AEAwCnvNkuyD+R3qNzSbNLSHNw==', 1641), ('AEAwCnvNkuyD+R3qNzSbNLSHNw==', 1641)] \n",
      "\n",
      "Top of  CO = [('AWf6YD/4pWZ2FLafcDQyivi+sQ==', 5486), ('AWf6YD/4pWZ2FLafcDQyivi+sQ==', 5486), ('AWf6YD/4pWZ2FLafcDQyivi+sQ==', 5486), ('ASaww7jZUAMz5jn1erJVF5pjzQ==', 3974), ('ASaww7jZUAMz5jn1erJVF5pjzQ==', 3974), ('ASaww7jZUAMz5jn1erJVF5pjzQ==', 3974), ('BRzFlPCEoQuq6K0WXSD2UUT0Ew==', 3632), ('BRzFlPCEoQuq6K0WXSD2UUT0Ew==', 3632), ('BRzFlPCEoQuq6K0WXSD2UUT0Ew==', 3632), ('CPt/L1/y6Kd5dXubKZzpP3eFmQ==', 3057), ('CPt/L1/y6Kd5dXubKZzpP3eFmQ==', 3057), ('CPt/L1/y6Kd5dXubKZzpP3eFmQ==', 3057), ('ClRoS30Upin2E68Z3i8T3SFv5g==', 2890), ('ClRoS30Upin2E68Z3i8T3SFv5g==', 2890), ('ClRoS30Upin2E68Z3i8T3SFv5g==', 2890), ('AFNqtWTdux1p5C+Bnv+yW8yBFQ==', 2677), ('AFNqtWTdux1p5C+Bnv+yW8yBFQ==', 2677), ('AFNqtWTdux1p5C+Bnv+yW8yBFQ==', 2677), ('BifwTCeI9mopqjf9Or9jZxtyTA==', 2584), ('BifwTCeI9mopqjf9Or9jZxtyTA==', 2584), ('BifwTCeI9mopqjf9Or9jZxtyTA==', 2584), ('CmBHFxVH6ugNJtqDl8ojsGV3lg==', 2232), ('CmBHFxVH6ugNJtqDl8ojsGV3lg==', 2232), ('CmBHFxVH6ugNJtqDl8ojsGV3lg==', 2232), ('Cc5t6Gue+bCd+chi7GIWvYUQNg==', 1782), ('Cc5t6Gue+bCd+chi7GIWvYUQNg==', 1782), ('Cc5t6Gue+bCd+chi7GIWvYUQNg==', 1782), ('B5nvXzlBns3/3n3D7y1ywVZsaw==', 1613), ('B5nvXzlBns3/3n3D7y1ywVZsaw==', 1613), ('B5nvXzlBns3/3n3D7y1ywVZsaw==', 1613), ('BuN1OQ9UPNkP2BB9I/CkCvowrQ==', 1531), ('BuN1OQ9UPNkP2BB9I/CkCvowrQ==', 1531), ('BuN1OQ9UPNkP2BB9I/CkCvowrQ==', 1531), ('AnX6KA22LhSSRYMxuitqhs6rEg==', 1530), ('AnX6KA22LhSSRYMxuitqhs6rEg==', 1530), ('AnX6KA22LhSSRYMxuitqhs6rEg==', 1530), ('CVAMETAvPK3c3GrNIZZgJux5Ug==', 1418), ('CVAMETAvPK3c3GrNIZZgJux5Ug==', 1418), ('CVAMETAvPK3c3GrNIZZgJux5Ug==', 1418), ('CS9q0bIPoJOPltNqg6UfYKG/ng==', 1316), ('CS9q0bIPoJOPltNqg6UfYKG/ng==', 1316), ('CS9q0bIPoJOPltNqg6UfYKG/ng==', 1316), ('B+38U0V2gd3HxXgPisZx8tRccA==', 1265), ('B+38U0V2gd3HxXgPisZx8tRccA==', 1265), ('B+38U0V2gd3HxXgPisZx8tRccA==', 1265), ('AlaySwVSwgAvsgn4A2eveHAO8w==', 1129), ('AlaySwVSwgAvsgn4A2eveHAO8w==', 1129), ('AlaySwVSwgAvsgn4A2eveHAO8w==', 1129), ('CngNiu7VVb3eRJ7Sy3k71wWT4A==', 1083), ('CngNiu7VVb3eRJ7Sy3k71wWT4A==', 1083), ('CngNiu7VVb3eRJ7Sy3k71wWT4A==', 1083), ('AyVZbv4I3NyllCi9ixHYNc0GWw==', 1020), ('AyVZbv4I3NyllCi9ixHYNc0GWw==', 1020), ('AyVZbv4I3NyllCi9ixHYNc0GWw==', 1020), ('AUP+RCy1ffxxLeOttdbwJZX86Q==', 1008), ('AUP+RCy1ffxxLeOttdbwJZX86Q==', 1008), ('AUP+RCy1ffxxLeOttdbwJZX86Q==', 1008)] \n",
      "\n",
      "Top of  GB = [('CrMclPIcKLkajpxKkBJg/EyU+g==', 5682), ('CrMclPIcKLkajpxKkBJg/EyU+g==', 5682), ('CrMclPIcKLkajpxKkBJg/EyU+g==', 5682), ('BWA2etFy2C9IyhbJmETK7+TRtA==', 4952), ('BWA2etFy2C9IyhbJmETK7+TRtA==', 4952), ('BWA2etFy2C9IyhbJmETK7+TRtA==', 4952), ('BwVUWbzGQlGdP4irk9hsQUDtiA==', 3564), ('BwVUWbzGQlGdP4irk9hsQUDtiA==', 3564), ('BwVUWbzGQlGdP4irk9hsQUDtiA==', 3564), ('BXgY/umqYk+P5YTkFwgh14TeyA==', 2738), ('BXgY/umqYk+P5YTkFwgh14TeyA==', 2738), ('BXgY/umqYk+P5YTkFwgh14TeyA==', 2738), ('B+38U0V2gd3HxXgPisZx8tRccA==', 2478), ('B+38U0V2gd3HxXgPisZx8tRccA==', 2478), ('B+38U0V2gd3HxXgPisZx8tRccA==', 2478), ('BjiKq+qLWDoFwVJvCiHDpH+bOg==', 2348), ('BjiKq+qLWDoFwVJvCiHDpH+bOg==', 2348), ('BjiKq+qLWDoFwVJvCiHDpH+bOg==', 2348), ('BReHySlJVarI6jDQJAnAKO8USw==', 2252), ('BReHySlJVarI6jDQJAnAKO8USw==', 2252), ('BReHySlJVarI6jDQJAnAKO8USw==', 2252), ('BPoV+gzyqic45tfnfScuD+gwKA==', 2084), ('BPoV+gzyqic45tfnfScuD+gwKA==', 2084), ('BPoV+gzyqic45tfnfScuD+gwKA==', 2084), ('AyVZbv4I3NyllCi9ixHYNc0GWw==', 1902), ('BuN1OQ9UPNkP2BB9I/CkCvowrQ==', 1902), ('AyVZbv4I3NyllCi9ixHYNc0GWw==', 1902), ('BuN1OQ9UPNkP2BB9I/CkCvowrQ==', 1902), ('AyVZbv4I3NyllCi9ixHYNc0GWw==', 1902), ('BuN1OQ9UPNkP2BB9I/CkCvowrQ==', 1902), ('CH79MKPZZnwvZGCkAb9/3vX8AQ==', 1775), ('CH79MKPZZnwvZGCkAb9/3vX8AQ==', 1775), ('CH79MKPZZnwvZGCkAb9/3vX8AQ==', 1775), ('BMx8MTshpfm43uUfguDs1RAGTA==', 1765), ('BMx8MTshpfm43uUfguDs1RAGTA==', 1765), ('BMx8MTshpfm43uUfguDs1RAGTA==', 1765), ('AS0d8sf67M0KvXqnL06xArZrAQ==', 1761), ('AS0d8sf67M0KvXqnL06xArZrAQ==', 1761), ('AS0d8sf67M0KvXqnL06xArZrAQ==', 1761), ('BBhH740pNZ2y/chQgvjDlgFQoQ==', 1741), ('BBhH740pNZ2y/chQgvjDlgFQoQ==', 1741), ('BBhH740pNZ2y/chQgvjDlgFQoQ==', 1741), ('AQCKU/4FGaBCAE68QKwqNktQGw==', 1702), ('AQCKU/4FGaBCAE68QKwqNktQGw==', 1702), ('AQCKU/4FGaBCAE68QKwqNktQGw==', 1702), ('CUIoM5Qip7ysoCrGb00ecQCYxQ==', 1568), ('CUIoM5Qip7ysoCrGb00ecQCYxQ==', 1568), ('CUIoM5Qip7ysoCrGb00ecQCYxQ==', 1568), ('BCgYY3pC5HnRMhU0/Bnlnskxyg==', 1487), ('BCgYY3pC5HnRMhU0/Bnlnskxyg==', 1487), ('BCgYY3pC5HnRMhU0/Bnlnskxyg==', 1487), ('ASmpfV917uWqDXtvJUeMfLWqSA==', 1461), ('ASmpfV917uWqDXtvJUeMfLWqSA==', 1461), ('ASmpfV917uWqDXtvJUeMfLWqSA==', 1461), ('ANR/yOuIDlpszF407Io8S+Bkmg==', 1443), ('ANR/yOuIDlpszF407Io8S+Bkmg==', 1443), ('ANR/yOuIDlpszF407Io8S+Bkmg==', 1443), ('Ak8LBru+4fMqDeubUzbR4/FAsA==', 1334), ('Ak8LBru+4fMqDeubUzbR4/FAsA==', 1334), ('Ak8LBru+4fMqDeubUzbR4/FAsA==', 1334), ('Cd0tLs7nfvLDJKQbol8ljxHLZQ==', 1275), ('Cd0tLs7nfvLDJKQbol8ljxHLZQ==', 1275), ('Cd0tLs7nfvLDJKQbol8ljxHLZQ==', 1275), ('CNsQ4NwLWtwUqCg67OLRcXKvkg==', 1273), ('CNsQ4NwLWtwUqCg67OLRcXKvkg==', 1273), ('CNsQ4NwLWtwUqCg67OLRcXKvkg==', 1273), ('Bxp+P3gF+xJ0SAyDZzwqbqd6yw==', 1272), ('Bxp+P3gF+xJ0SAyDZzwqbqd6yw==', 1272), ('Bxp+P3gF+xJ0SAyDZzwqbqd6yw==', 1272), ('CRDL66knY+nfoLmOUusjQVcPOw==', 1261), ('CRDL66knY+nfoLmOUusjQVcPOw==', 1261), ('CRDL66knY+nfoLmOUusjQVcPOw==', 1261), ('BmPKhPpe6HS11RdK77xlMpWUTw==', 1214), ('BmPKhPpe6HS11RdK77xlMpWUTw==', 1214), ('BmPKhPpe6HS11RdK77xlMpWUTw==', 1214), ('CqpKTqbUSnYQBHtTUJsNnedEWw==', 1140), ('CqpKTqbUSnYQBHtTUJsNnedEWw==', 1140), ('CqpKTqbUSnYQBHtTUJsNnedEWw==', 1140), ('CmNHmkCAmmIdGzmwjpQSnZGuTQ==', 1052), ('CmNHmkCAmmIdGzmwjpQSnZGuTQ==', 1052), ('CmNHmkCAmmIdGzmwjpQSnZGuTQ==', 1052), ('AVqM7OGwWyGHRaLL6EgpDc+j1g==', 1024), ('AVqM7OGwWyGHRaLL6EgpDc+j1g==', 1024), ('AVqM7OGwWyGHRaLL6EgpDc+j1g==', 1024), ('CB/A7fbijbjXoJwOrb8tTAu4FQ==', 1022), ('CB/A7fbijbjXoJwOrb8tTAu4FQ==', 1022), ('CB/A7fbijbjXoJwOrb8tTAu4FQ==', 1022), ('AF6o9rIzHB7wza22CpAFW0fMQg==', 1020), ('AF6o9rIzHB7wza22CpAFW0fMQg==', 1020), ('AF6o9rIzHB7wza22CpAFW0fMQg==', 1020)] \n",
      "\n",
      "Top of  RS = [('A4RxmFX+DbmZgn5DDYE01BSoRg==', 4484), ('A4RxmFX+DbmZgn5DDYE01BSoRg==', 4484), ('A4RxmFX+DbmZgn5DDYE01BSoRg==', 4484), ('CjXNbS0KsPNZNiDBfVJzZ3d6Aw==', 1864), ('CjXNbS0KsPNZNiDBfVJzZ3d6Aw==', 1864), ('CjXNbS0KsPNZNiDBfVJzZ3d6Aw==', 1864), ('AQpLVVIMtSFu1ZizvSg9twGS+A==', 1636), ('AQpLVVIMtSFu1ZizvSg9twGS+A==', 1636), ('AQpLVVIMtSFu1ZizvSg9twGS+A==', 1636), ('CWfvA9/yosl1bm6VDCgsVvI1PA==', 1397), ('CWfvA9/yosl1bm6VDCgsVvI1PA==', 1397), ('CWfvA9/yosl1bm6VDCgsVvI1PA==', 1397), ('BDRE0FeyJFObsvoL3+V73k6eHQ==', 1135), ('BDRE0FeyJFObsvoL3+V73k6eHQ==', 1135), ('BDRE0FeyJFObsvoL3+V73k6eHQ==', 1135)] \n",
      "\n",
      "Top of  GT = [('AWf6YD/4pWZ2FLafcDQyivi+sQ==', 2765), ('AWf6YD/4pWZ2FLafcDQyivi+sQ==', 2765), ('AWf6YD/4pWZ2FLafcDQyivi+sQ==', 2765), ('ASaww7jZUAMz5jn1erJVF5pjzQ==', 2311), ('ASaww7jZUAMz5jn1erJVF5pjzQ==', 2311), ('ASaww7jZUAMz5jn1erJVF5pjzQ==', 2311), ('ClRoS30Upin2E68Z3i8T3SFv5g==', 1888), ('ClRoS30Upin2E68Z3i8T3SFv5g==', 1888), ('ClRoS30Upin2E68Z3i8T3SFv5g==', 1888), ('CmBHFxVH6ugNJtqDl8ojsGV3lg==', 1310), ('CmBHFxVH6ugNJtqDl8ojsGV3lg==', 1310), ('CmBHFxVH6ugNJtqDl8ojsGV3lg==', 1310), ('CVAMETAvPK3c3GrNIZZgJux5Ug==', 1112), ('CVAMETAvPK3c3GrNIZZgJux5Ug==', 1112), ('CVAMETAvPK3c3GrNIZZgJux5Ug==', 1112)] \n",
      "\n",
      "Top of  IT = [('AV9Q+VaonlmoHQWERTm71Ln/gg==', 1144), ('AV9Q+VaonlmoHQWERTm71Ln/gg==', 1144), ('AV9Q+VaonlmoHQWERTm71Ln/gg==', 1144)] \n",
      "\n",
      "Top of  AR = [('AWf6YD/4pWZ2FLafcDQyivi+sQ==', 1428), ('AWf6YD/4pWZ2FLafcDQyivi+sQ==', 1428), ('AWf6YD/4pWZ2FLafcDQyivi+sQ==', 1428)] \n",
      "\n",
      "Top of  NL = [('AZxQl+NpdrngkJv/gQeSTHCCzw==', 2427), ('AZxQl+NpdrngkJv/gQeSTHCCzw==', 2427), ('AZxQl+NpdrngkJv/gQeSTHCCzw==', 2427), ('BMx8MTshpfm43uUfguDs1RAGTA==', 1807), ('BMx8MTshpfm43uUfguDs1RAGTA==', 1807), ('BMx8MTshpfm43uUfguDs1RAGTA==', 1807), ('BKW2eoIsavGfQuuzHw9LX2rJxQ==', 1592), ('BKW2eoIsavGfQuuzHw9LX2rJxQ==', 1592), ('BKW2eoIsavGfQuuzHw9LX2rJxQ==', 1592), ('BWA2etFy2C9IyhbJmETK7+TRtA==', 1392), ('BWA2etFy2C9IyhbJmETK7+TRtA==', 1392), ('BWA2etFy2C9IyhbJmETK7+TRtA==', 1392), ('BTnORSOkr35Ff18Pm9iIPXvPog==', 1223), ('BTnORSOkr35Ff18Pm9iIPXvPog==', 1223), ('BTnORSOkr35Ff18Pm9iIPXvPog==', 1223), ('Ax5wzOoAbSMnf3cZ4E0jm0cJZQ==', 1179), ('Ax5wzOoAbSMnf3cZ4E0jm0cJZQ==', 1179), ('Ax5wzOoAbSMnf3cZ4E0jm0cJZQ==', 1179), ('A68KyCSY/gnMVsKom/XjciJh9g==', 1151), ('A68KyCSY/gnMVsKom/XjciJh9g==', 1151), ('A68KyCSY/gnMVsKom/XjciJh9g==', 1151), ('B+38U0V2gd3HxXgPisZx8tRccA==', 1106), ('B+38U0V2gd3HxXgPisZx8tRccA==', 1106), ('B+38U0V2gd3HxXgPisZx8tRccA==', 1106)] \n",
      "\n",
      "Top of  EG = [('B6unz6kdAnwGV6+HB787rEWHWQ==', 1969), ('B6unz6kdAnwGV6+HB787rEWHWQ==', 1969), ('B6unz6kdAnwGV6+HB787rEWHWQ==', 1969), ('A2XPwq6EKuYq/x6lq0mvA8QiDQ==', 1940), ('A2XPwq6EKuYq/x6lq0mvA8QiDQ==', 1940), ('A2XPwq6EKuYq/x6lq0mvA8QiDQ==', 1940), ('Ak2hd/zcKQT4p0Ktlbx5kxbSzA==', 1133), ('Ak2hd/zcKQT4p0Ktlbx5kxbSzA==', 1133), ('Ak2hd/zcKQT4p0Ktlbx5kxbSzA==', 1133), ('Anay4GHoh8jARMWOlrLRPvJ5tA==', 1124), ('Anay4GHoh8jARMWOlrLRPvJ5tA==', 1124), ('Anay4GHoh8jARMWOlrLRPvJ5tA==', 1124)] \n",
      "\n",
      "Top of  SA = [('A2XPwq6EKuYq/x6lq0mvA8QiDQ==', 1854), ('A2XPwq6EKuYq/x6lq0mvA8QiDQ==', 1854), ('A2XPwq6EKuYq/x6lq0mvA8QiDQ==', 1854)] \n",
      "\n",
      "Top of  DZ = [('Bq3FUlexj+Oi6Jdua0rdHgGpuA==', 1842), ('Bq3FUlexj+Oi6Jdua0rdHgGpuA==', 1842), ('Bq3FUlexj+Oi6Jdua0rdHgGpuA==', 1842), ('CIuQae501R7q66jcgeDveLAgrw==', 1841), ('CIuQae501R7q66jcgeDveLAgrw==', 1841), ('CIuQae501R7q66jcgeDveLAgrw==', 1841), ('A+47QLTduLD8hkJBMxrIwCaeSg==', 1089), ('A+47QLTduLD8hkJBMxrIwCaeSg==', 1089), ('A+47QLTduLD8hkJBMxrIwCaeSg==', 1089)] \n",
      "\n",
      "Top of  BE = [('Bq3FUlexj+Oi6Jdua0rdHgGpuA==', 2947), ('Bq3FUlexj+Oi6Jdua0rdHgGpuA==', 2947), ('Bq3FUlexj+Oi6Jdua0rdHgGpuA==', 2947), ('A+47QLTduLD8hkJBMxrIwCaeSg==', 2264), ('A+47QLTduLD8hkJBMxrIwCaeSg==', 2264), ('A+47QLTduLD8hkJBMxrIwCaeSg==', 2264), ('CIuQae501R7q66jcgeDveLAgrw==', 1640), ('CIuQae501R7q66jcgeDveLAgrw==', 1640), ('CIuQae501R7q66jcgeDveLAgrw==', 1640), ('CXA/+pabOzzmbtCjqaLKwTgF9g==', 1539), ('CXA/+pabOzzmbtCjqaLKwTgF9g==', 1539), ('CXA/+pabOzzmbtCjqaLKwTgF9g==', 1539)] \n",
      "\n",
      "Top of  RU = [('BCeeuH+qNCBl/3WZY9QwO138sQ==', 1329), ('BCeeuH+qNCBl/3WZY9QwO138sQ==', 1329), ('BCeeuH+qNCBl/3WZY9QwO138sQ==', 1329), ('Bjxo9MDCLNumxYDcnlhx51XSRA==', 1051), ('Bjxo9MDCLNumxYDcnlhx51XSRA==', 1051), ('Bjxo9MDCLNumxYDcnlhx51XSRA==', 1051)] \n",
      "\n",
      "Top of  US = [('BWA2etFy2C9IyhbJmETK7+TRtA==', 2033), ('BWA2etFy2C9IyhbJmETK7+TRtA==', 2033), ('BWA2etFy2C9IyhbJmETK7+TRtA==', 2033), ('BReHySlJVarI6jDQJAnAKO8USw==', 1285), ('BReHySlJVarI6jDQJAnAKO8USw==', 1285), ('BReHySlJVarI6jDQJAnAKO8USw==', 1285)] \n",
      "\n",
      "Top of  ES = [('CmBHFxVH6ugNJtqDl8ojsGV3lg==', 1241), ('CmBHFxVH6ugNJtqDl8ojsGV3lg==', 1241), ('CmBHFxVH6ugNJtqDl8ojsGV3lg==', 1241)] \n",
      "\n"
     ]
    }
   ],
   "source": [
    "#function calling\n",
    "get_countries_top_songs(\"song_data.csv\")"
   ]
  }
 ],
 "metadata": {
  "kernelspec": {
   "display_name": "Python 3",
   "language": "python",
   "name": "python3"
  },
  "language_info": {
   "codemirror_mode": {
    "name": "ipython",
    "version": 3
   },
   "file_extension": ".py",
   "mimetype": "text/x-python",
   "name": "python",
   "nbconvert_exporter": "python",
   "pygments_lexer": "ipython3",
   "version": "3.8.3"
  }
 },
 "nbformat": 4,
 "nbformat_minor": 4
}
